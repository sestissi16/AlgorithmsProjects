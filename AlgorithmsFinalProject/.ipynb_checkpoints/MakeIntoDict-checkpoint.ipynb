{
 "cells": [
  {
   "cell_type": "code",
   "execution_count": 31,
   "metadata": {
    "collapsed": false
   },
   "outputs": [
    {
     "name": "stdout",
     "output_type": "stream",
     "text": [
      "{'ten': ['eight', 'seven'], 'six': ['one', 'four', 'five'], 'three': ['nine', 'eight', 'five', 'one'], 'seven': ['ten', 'eight'], 'one': ['three', 'two', 'six'], 'two': ['one'], 'five': ['six', 'four', 'three'], 'eight': ['three', 'nine', 'seven', 'ten'], 'four': ['five', 'six'], 'nine': ['three', 'eight']}\n",
      "\n",
      "{'Fort_Wayne,IN': ['Muncie,IN', 'Chicago,IL', 'Bloomington,IN', 'Cincinnati,OH'], 'Richmond,IN': ['Muncie,IN', 'Oxford,OH', 'Anderson,IN'], 'Indianapolis,IN': ['Dayton,OH', 'Anderson,IN'], 'Anderson,IN': ['Richmond,IN', 'Indianapolis,IN', 'Dayton,OH'], 'Chicago,IL': ['Muncie,IN', 'Fort_Wayne,IN'], 'Dayton,OH': ['Anderson,IN', 'Indianapolis,IN', 'Muncie,IN'], 'Bloomington,IN': ['Cincinnati,OH', 'Fort_Wayne,IN'], 'Cincinnati,OH': ['Fort_Wayne,IN', 'Bloomington,IN'], 'Oxford,OH': ['Richmond,IN'], 'Muncie,IN': ['Chicago,IL', 'Fort_Wayne,IN', 'Dayton,OH', 'Richmond,IN']}\n"
     ]
    }
   ],
   "source": [
    "def DictOfNodes(file):\n",
    "    dict = {}\n",
    "    nodes = []\n",
    "    firstTime = True\n",
    "    firstedge= ''\n",
    "    secondedge = '' \n",
    "    filename = open(file, 'r')\n",
    "    filen = filename.read()\n",
    "    for node in filen.split():\n",
    "        nodes.append(node)\n",
    "    for node in nodes:\n",
    "        for edge in node.split('-'):\n",
    "            if firstTime:\n",
    "                if edge in firstedge:\n",
    "                    firstTime = False\n",
    "                else:\n",
    "                    dict[edge] = []\n",
    "                    firstedge = edge\n",
    "                    firstTime = False\n",
    "            else:\n",
    "                secondedge = edge\n",
    "                dict[firstedge].append(secondedge)\n",
    "                firstTime=True\n",
    "                \n",
    "    print(dict)\n",
    "                \n",
    "            \n",
    "            \n",
    "            \n",
    "            \n",
    "DictOfNodes(\"graphOne.in\")\n",
    "print()\n",
    "DictOfNodes(\"graphSmall1.in\")"
   ]
  },
  {
   "cell_type": "code",
   "execution_count": null,
   "metadata": {
    "collapsed": true
   },
   "outputs": [],
   "source": []
  }
 ],
 "metadata": {
  "kernelspec": {
   "display_name": "Python 3",
   "language": "python",
   "name": "python3"
  },
  "language_info": {
   "codemirror_mode": {
    "name": "ipython",
    "version": 3
   },
   "file_extension": ".py",
   "mimetype": "text/x-python",
   "name": "python",
   "nbconvert_exporter": "python",
   "pygments_lexer": "ipython3",
   "version": "3.5.2"
  }
 },
 "nbformat": 4,
 "nbformat_minor": 0
}
